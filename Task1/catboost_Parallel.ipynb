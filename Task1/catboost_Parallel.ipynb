{
 "cells": [
  {
   "cell_type": "code",
   "execution_count": null,
   "id": "2e69d3a8-9e56-4401-9ea9-a9c687ad62a1",
   "metadata": {},
   "outputs": [],
   "source": [
    "import os, math, subprocess, threading, optuna\n",
    "\n",
    "STUDY_DB = \"sqlite:///catboost_optuna_v1.db\"\n",
    "STUDY_NAME = \"catboost_cat_study_v1\"\n",
    "\n",
    "optuna.create_study(study_name=STUDY_NAME, storage=STUDY_DB,\n",
    "                    direction=\"minimize\", load_if_exists=True)\n",
    "\n",
    "GPUS = [0, 1, 2, 3]       \n",
    "THREADS_PER_WORKER = 8    \n",
    "TRIALS_TOTAL = 40\n",
    "TRIALS_PER_WORKER = max(1, math.ceil(TRIALS_TOTAL / len(GPUS)))\n",
    "SECONDS_PER_WORKER = 7200\n",
    "\n",
    "PYTHON = \"/gpfs/milgram/project/christakis/vs479/conda_envs/pykan-env/bin/python\"\n",
    "\n",
    "common_args = [\n",
    "    \"--storage\", STUDY_DB, \"--study_name\", STUDY_NAME,\n",
    "    \"--n_trials\", str(TRIALS_PER_WORKER),\n",
    "    \"--timeout\", str(SECONDS_PER_WORKER),\n",
    "    \"--threads\", str(THREADS_PER_WORKER),\n",
    "    \"--gpu_ram_part\", \"0.30\",\n",
    "    \"--stratify_regime\",                 \n",
    "    \"--cv_splits\", \"5\",                \n",
    "    \"--sigmoid_cut\", \"7.0\",             \n",
    "    \"--epsilon\", \"1e-4\",\n",
    "    \"--writer_id\", \"0\", \n",
    "]\n",
    "\n",
    "base_env = os.environ.copy()\n",
    "for var in [\"TBB_NUM_THREADS\",\"OMP_NUM_THREADS\",\"MKL_NUM_THREADS\",\"NUMEXPR_NUM_THREADS\"]:\n",
    "    base_env[var] = str(THREADS_PER_WORKER)\n",
    "\n",
    "def launch_worker(worker_id, gpu_id):\n",
    "    env = base_env.copy()\n",
    "    env[\"CUDA_VISIBLE_DEVICES\"] = str(gpu_id)  \n",
    "    cmd = [PYTHON, \"catboost_optuna_tuning-stratified-CV.py\",\n",
    "           \"--gpus\", \"0\",                     \n",
    "           \"--worker_id\", str(worker_id)] + common_args\n",
    "    p = subprocess.Popen(cmd, env=env, stdout=subprocess.PIPE,\n",
    "                         stderr=subprocess.STDOUT, text=True, bufsize=1)\n",
    "    def pipe():\n",
    "        for line in p.stdout:\n",
    "            print(f\"[W{worker_id}/GPU{gpu_id}] {line}\", end=\"\")\n",
    "    threading.Thread(target=pipe, daemon=True).start()\n",
    "    return p\n",
    "\n",
    "procs = []\n",
    "for wid, g in enumerate(GPUS):\n",
    "    print(f\"Starting worker {wid} on GPU {g} with {THREADS_PER_WORKER} threads and {TRIALS_PER_WORKER} trials...\")\n",
    "    procs.append(launch_worker(wid, g))\n",
    "\n",
    "for p in procs:\n",
    "    p.wait()\n",
    "\n",
    "print(\"All workers finished.\")\n"
   ]
  },
  {
   "cell_type": "code",
   "execution_count": null,
   "id": "671232d3-88aa-44e0-a431-cd93676b8908",
   "metadata": {},
   "outputs": [],
   "source": []
  }
 ],
 "metadata": {
  "kernelspec": {
   "display_name": "pykan-env",
   "language": "python",
   "name": "pykan-env"
  },
  "language_info": {
   "codemirror_mode": {
    "name": "ipython",
    "version": 3
   },
   "file_extension": ".py",
   "mimetype": "text/x-python",
   "name": "python",
   "nbconvert_exporter": "python",
   "pygments_lexer": "ipython3",
   "version": "3.9.7"
  }
 },
 "nbformat": 4,
 "nbformat_minor": 5
}
